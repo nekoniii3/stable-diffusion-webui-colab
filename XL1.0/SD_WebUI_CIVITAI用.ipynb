{
  "nbformat": 4,
  "nbformat_minor": 0,
  "metadata": {
    "colab": {
      "provenance": [],
      "authorship_tag": "ABX9TyPHtxBrBJ02li3zxCr7/cKy",
      "include_colab_link": true
    },
    "kernelspec": {
      "name": "python3",
      "display_name": "Python 3"
    },
    "language_info": {
      "name": "python"
    }
  },
  "cells": [
    {
      "cell_type": "markdown",
      "metadata": {
        "id": "view-in-github",
        "colab_type": "text"
      },
      "source": [
        "<a href=\"https://colab.research.google.com/github/nekoniii3/stable-diffusion-webui-colab/blob/main/XL1.0/SD_WebUI_CIVITAI%E7%94%A8.ipynb\" target=\"_parent\"><img src=\"https://colab.research.google.com/assets/colab-badge.svg\" alt=\"Open In Colab\"/></a>"
      ]
    },
    {
      "cell_type": "markdown",
      "source": [
        "# **CIVITAI用SDWebUI起動Colabノート**"
      ],
      "metadata": {
        "id": "VWFzs_LY9FcP"
      }
    },
    {
      "cell_type": "markdown",
      "metadata": {
        "id": "82v8VxH4RfdB"
      },
      "source": [
        "## https://civitai.com/models\n",
        "\n",
        "### **にあるモデルを試しに使うことができます。<br>モデルファイルのページのURLを入力して①②を実行してください。**\n",
        "### **※現在はモデルファイル(Checkpoint)のみ対応でLORAは非対応**"
      ]
    },
    {
      "cell_type": "markdown",
      "metadata": {
        "id": "yka_PLAAhXFi"
      },
      "source": [
        "**※Colab無料版で画像生成AIの利用が禁止となりました。有料版で実行してください。（警告が表示されます）**"
      ]
    },
    {
      "cell_type": "markdown",
      "metadata": {
        "id": "i_TTAfke7lPi"
      },
      "source": [
        "### **⓪最初にランタイムのタイプをGPUに変更して下さい**"
      ]
    },
    {
      "cell_type": "markdown",
      "metadata": {
        "id": "j4CCS-v1pBnL"
      },
      "source": [
        "### **①SDWebUIリポジトリとモデルファイル取得**"
      ]
    },
    {
      "cell_type": "markdown",
      "metadata": {
        "id": "Hc4STrY60J06"
      },
      "source": [
        "### **↓ここにCivitaiのページのURLをセットして再生マーク実行**"
      ]
    },
    {
      "cell_type": "code",
      "source": [
        "import requests\n",
        "from bs4 import BeautifulSoup\n",
        "import json\n",
        "\n",
        "# 変数定義\n",
        "DOWN_PATH = \"https://civitai.com/api/download/models/\" #ダウンロードまでのパス\n",
        "\n",
        "# URLを画面から取得\n",
        "civitai_url = \"https://civitai.com/models/105573/dream2reality\" #@param {type:\"string\"}\n",
        "\n",
        "# HTMLから情報取得\n",
        "response = requests.get(civitai_url)\n",
        "soup = BeautifulSoup(response.text,'html.parser')\n",
        "\n",
        "# application/json情報取得\n",
        "ap_json = soup.find(type=\"application/json\")\n",
        "\n",
        "# JSONをdictに\n",
        "json_dict = json.loads(ap_json.text)\n",
        "\n",
        "# checkpointType取得\n",
        "checkpointType = json_dict[\"props\"][\"pageProps\"][\"trpcState\"][\"json\"][\"queries\"][1][\"state\"][\"data\"][\"type\"]\n",
        "\n",
        "# もしLoraなどcheckpointでなければ終了\n",
        "if checkpointType != \"Checkpoint\":\n",
        "  print(\"Checkpointモデルファイルではありません。（LORAなどではなくモデルファイル本体を指定して下さい。）\")\n",
        "\n",
        "else:\n",
        "\n",
        "  # aria2インストール（ダウンロードを高速にするやつ）\n",
        "  !apt -y install -qq aria2\n",
        "\n",
        "  # モデルのIDを取得\n",
        "  model_id = json_dict[\"props\"][\"pageProps\"][\"trpcState\"][\"json\"][\"queries\"][0][\"state\"][\"data\"][\"pages\"][0][\"items\"][0][\"modelVersionId\"]\n",
        "\n",
        "  # モデルのIDからダウンロードパス設定\n",
        "  file_path = DOWN_PATH + str(model_id)\n",
        "\n",
        "  # モデル名取得（取得できなくても続行）\n",
        "  try:\n",
        "    file_name = json_dict[\"props\"][\"pageProps\"][\"trpcState\"][\"json\"][\"queries\"][1][\"state\"][\"data\"][\"modelVersions\"][0][\"files\"][0][\"name\"]\n",
        "    file_name = file_name.replace(' ', '')\n",
        "  except Exception as e:\n",
        "    file_name = str(model_id) + \".safetensors\"\n",
        "\n",
        "  # stable-diffusion-webui（AUTOMATIC1111版）取得\n",
        "  !git clone https://github.com/AUTOMATIC1111/stable-diffusion-webui\n",
        "\n",
        "  # dreamshaperXLモデルファイル取得\n",
        "  !aria2c --console-log-level=error -c -x 16 -s 16 -k 1M $file_path -d /content/stable-diffusion-webui/models/Stable-diffusion -o $file_name\n"
      ],
      "metadata": {
        "id": "Ybj2YqmvUOFY",
        "cellView": "form"
      },
      "execution_count": null,
      "outputs": []
    },
    {
      "cell_type": "markdown",
      "metadata": {
        "id": "RZjyuUIpYqVt"
      },
      "source": [
        "### **②WebUI起動**"
      ]
    },
    {
      "cell_type": "code",
      "source": [
        "%cd /content/stable-diffusion-webui\n",
        "!python launch.py --share --xformers --enable-insecure-extension-access"
      ],
      "metadata": {
        "id": "m2QtnywE1C0J"
      },
      "execution_count": null,
      "outputs": []
    },
    {
      "cell_type": "markdown",
      "metadata": {
        "id": "zKPp5OtGtitT"
      },
      "source": [
        "### **生成画像をZIP化（左の[ファイル]直下にZIPファイルができます）**"
      ]
    },
    {
      "cell_type": "code",
      "execution_count": null,
      "metadata": {
        "id": "NqXxGAdcunUb"
      },
      "outputs": [],
      "source": [
        "!zip -r /content/all_images.zip /content/stable-diffusion-webui/outputs"
      ]
    },
    {
      "cell_type": "markdown",
      "metadata": {
        "id": "u_zRSHmIv4_z"
      },
      "source": [
        "**[SAVE]した画像のみ**"
      ]
    },
    {
      "cell_type": "code",
      "execution_count": null,
      "metadata": {
        "id": "NcAO6Q3VvV6d"
      },
      "outputs": [],
      "source": [
        "!zip -r /content/save_images.zip /content/stable-diffusion-webui/log/images"
      ]
    }
  ]
}