{
  "nbformat": 4,
  "nbformat_minor": 0,
  "metadata": {
    "colab": {
      "provenance": [],
      "gpuType": "A100",
      "authorship_tag": "ABX9TyMpyoaw32aI+GzslnBb5/6U",
      "include_colab_link": true
    },
    "kernelspec": {
      "name": "python3",
      "display_name": "Python 3"
    },
    "language_info": {
      "name": "python"
    },
    "accelerator": "GPU"
  },
  "cells": [
    {
      "cell_type": "markdown",
      "metadata": {
        "id": "view-in-github",
        "colab_type": "text"
      },
      "source": [
        "<a href=\"https://colab.research.google.com/github/nekoniii3/stable-diffusion-webui-colab/blob/main/XL1.0/Anime_Art_Diffusion_XL1_0.ipynb\" target=\"_parent\"><img src=\"https://colab.research.google.com/assets/colab-badge.svg\" alt=\"Open In Colab\"/></a>"
      ]
    },
    {
      "cell_type": "markdown",
      "metadata": {
        "id": "yka_PLAAhXFi"
      },
      "source": [
        "### **※注意※　無料版で画像生成AIの利用が禁止となりました（警告が表示されます）**\n",
        "### 　　　　　　　　 　 **有料版で実行してください**"
      ]
    },
    {
      "cell_type": "markdown",
      "metadata": {
        "id": "82v8VxH4RfdB"
      },
      "source": [
        "### **⓪最初にランタイムのタイプをGPUに変更して下さい**"
      ]
    },
    {
      "cell_type": "markdown",
      "metadata": {
        "id": "j4CCS-v1pBnL"
      },
      "source": [
        "### **①SDWebUIリポジトリとモデルファイル取得**"
      ]
    },
    {
      "cell_type": "code",
      "source": [
        "# aria2インストール（ダウンロードを高速にするやつ）\n",
        "!apt -y install -qq aria2\n",
        "\n",
        "# stable-diffusion-webui（AUTOMATIC1111さん版）取得\n",
        "!git clone https://github.com/AUTOMATIC1111/stable-diffusion-webui\n",
        "\n",
        "file_path = \"https://civitai.com/api/download/models/127055\"\n",
        "file_name = \"animeArtDiffusionXL_alpha3.safetensors\"\n",
        "\n",
        "# Stable-Diffusion-XL1.0モデルファイル取得\n",
        "!aria2c --console-log-level=error -c -x 16 -s 16 -k 1M $file_path -d /content/stable-diffusion-webui/models/Stable-diffusion -o $file_name\n",
        "\n",
        "vae_path = \"https://huggingface.co/stabilityai/sdxl-vae/resolve/main/sdxl_vae.safetensors\"\n",
        "vae_name = \"sdxl_vae.safetensors\"\n",
        "\n",
        "# # Stable-Diffusion-XL VAE取得\n",
        "# !aria2c --console-log-level=error -c -x 16 -s 16 -k 1M $vae_path -d /content/stable-diffusion-webui/models/VAE -o $vae_name\n"
      ],
      "metadata": {
        "id": "8-wAlwnI0fBS",
        "colab": {
          "base_uri": "https://localhost:8080/"
        },
        "outputId": "f5678145-92a1-4dc2-96be-8b9c4156ea12"
      },
      "execution_count": 1,
      "outputs": [
        {
          "output_type": "stream",
          "name": "stdout",
          "text": [
            "The following additional packages will be installed:\n",
            "  libaria2-0 libc-ares2\n",
            "The following NEW packages will be installed:\n",
            "  aria2 libaria2-0 libc-ares2\n",
            "0 upgraded, 3 newly installed, 0 to remove and 15 not upgraded.\n",
            "Need to get 1,513 kB of archives.\n",
            "After this operation, 5,441 kB of additional disk space will be used.\n",
            "Selecting previously unselected package libc-ares2:amd64.\n",
            "(Reading database ... 120500 files and directories currently installed.)\n",
            "Preparing to unpack .../libc-ares2_1.18.1-1ubuntu0.22.04.2_amd64.deb ...\n",
            "Unpacking libc-ares2:amd64 (1.18.1-1ubuntu0.22.04.2) ...\n",
            "Selecting previously unselected package libaria2-0:amd64.\n",
            "Preparing to unpack .../libaria2-0_1.36.0-1_amd64.deb ...\n",
            "Unpacking libaria2-0:amd64 (1.36.0-1) ...\n",
            "Selecting previously unselected package aria2.\n",
            "Preparing to unpack .../aria2_1.36.0-1_amd64.deb ...\n",
            "Unpacking aria2 (1.36.0-1) ...\n",
            "Setting up libc-ares2:amd64 (1.18.1-1ubuntu0.22.04.2) ...\n",
            "Setting up libaria2-0:amd64 (1.36.0-1) ...\n",
            "Setting up aria2 (1.36.0-1) ...\n",
            "Processing triggers for man-db (2.10.2-1) ...\n",
            "Processing triggers for libc-bin (2.35-0ubuntu3.1) ...\n",
            "Cloning into 'stable-diffusion-webui'...\n",
            "remote: Enumerating objects: 24445, done.\u001b[K\n",
            "remote: Counting objects: 100% (273/273), done.\u001b[K\n",
            "remote: Compressing objects: 100% (157/157), done.\u001b[K\n",
            "remote: Total 24445 (delta 160), reused 187 (delta 116), pack-reused 24172\u001b[K\n",
            "Receiving objects: 100% (24445/24445), 31.30 MiB | 17.61 MiB/s, done.\n",
            "Resolving deltas: 100% (17084/17084), done.\n",
            "\u001b[0m\n",
            "Download Results:\n",
            "gid   |stat|avg speed  |path/URI\n",
            "======+====+===========+=======================================================\n",
            "eee25f|\u001b[1;32mOK\u001b[0m  |   255MiB/s|/content/stable-diffusion-webui/models/Stable-diffusion/animeArtDiffusionXL_alpha3.safetensors\n",
            "\n",
            "Status Legend:\n",
            "(OK):download completed.\n"
          ]
        }
      ]
    },
    {
      "cell_type": "markdown",
      "metadata": {
        "id": "RZjyuUIpYqVt"
      },
      "source": [
        "### **②WebUI起動**"
      ]
    },
    {
      "cell_type": "code",
      "source": [
        "%cd /content/stable-diffusion-webui\n",
        "!python launch.py --share --xformers --enable-insecure-extension-access"
      ],
      "metadata": {
        "id": "m2QtnywE1C0J",
        "colab": {
          "base_uri": "https://localhost:8080/"
        },
        "outputId": "d452f819-48b8-4c03-ac5e-7b7b14fd9b85"
      },
      "execution_count": 2,
      "outputs": [
        {
          "output_type": "stream",
          "name": "stdout",
          "text": [
            "/content/stable-diffusion-webui\n",
            "Python 3.10.12 (main, Jun 11 2023, 05:26:28) [GCC 11.4.0]\n",
            "Version: v1.5.1\n",
            "Commit hash: 68f336bd994bed5442ad95bad6b6ad5564a5409a\n",
            "Installing gfpgan\n",
            "Installing clip\n",
            "Installing open_clip\n",
            "Installing xformers\n",
            "Cloning Stable Diffusion into /content/stable-diffusion-webui/repositories/stable-diffusion-stability-ai...\n",
            "Cloning into '/content/stable-diffusion-webui/repositories/stable-diffusion-stability-ai'...\n",
            "remote: Enumerating objects: 574, done.\u001b[K\n",
            "remote: Counting objects: 100% (311/311), done.\u001b[K\n",
            "remote: Compressing objects: 100% (92/92), done.\u001b[K\n",
            "remote: Total 574 (delta 244), reused 219 (delta 219), pack-reused 263\u001b[K\n",
            "Receiving objects: 100% (574/574), 73.43 MiB | 15.30 MiB/s, done.\n",
            "Resolving deltas: 100% (276/276), done.\n",
            "Cloning Stable Diffusion XL into /content/stable-diffusion-webui/repositories/generative-models...\n",
            "Cloning into '/content/stable-diffusion-webui/repositories/generative-models'...\n",
            "remote: Enumerating objects: 362, done.\u001b[K\n",
            "remote: Counting objects: 100% (185/185), done.\u001b[K\n",
            "remote: Compressing objects: 100% (105/105), done.\u001b[K\n",
            "remote: Total 362 (delta 124), reused 82 (delta 80), pack-reused 177\u001b[K\n",
            "Receiving objects: 100% (362/362), 22.26 MiB | 16.52 MiB/s, done.\n",
            "Resolving deltas: 100% (162/162), done.\n",
            "Cloning K-diffusion into /content/stable-diffusion-webui/repositories/k-diffusion...\n",
            "Cloning into '/content/stable-diffusion-webui/repositories/k-diffusion'...\n",
            "remote: Enumerating objects: 735, done.\u001b[K\n",
            "remote: Counting objects: 100% (11/11), done.\u001b[K\n",
            "remote: Compressing objects: 100% (7/7), done.\u001b[K\n",
            "remote: Total 735 (delta 4), reused 6 (delta 4), pack-reused 724\u001b[K\n",
            "Receiving objects: 100% (735/735), 143.84 KiB | 618.00 KiB/s, done.\n",
            "Resolving deltas: 100% (481/481), done.\n",
            "Cloning CodeFormer into /content/stable-diffusion-webui/repositories/CodeFormer...\n",
            "Cloning into '/content/stable-diffusion-webui/repositories/CodeFormer'...\n",
            "remote: Enumerating objects: 594, done.\u001b[K\n",
            "remote: Counting objects: 100% (245/245), done.\u001b[K\n",
            "remote: Compressing objects: 100% (97/97), done.\u001b[K\n",
            "remote: Total 594 (delta 175), reused 170 (delta 148), pack-reused 349\u001b[K\n",
            "Receiving objects: 100% (594/594), 17.31 MiB | 13.13 MiB/s, done.\n",
            "Resolving deltas: 100% (286/286), done.\n",
            "Cloning BLIP into /content/stable-diffusion-webui/repositories/BLIP...\n",
            "Cloning into '/content/stable-diffusion-webui/repositories/BLIP'...\n",
            "remote: Enumerating objects: 277, done.\u001b[K\n",
            "remote: Counting objects: 100% (165/165), done.\u001b[K\n",
            "remote: Compressing objects: 100% (30/30), done.\u001b[K\n",
            "remote: Total 277 (delta 137), reused 136 (delta 135), pack-reused 112\u001b[K\n",
            "Receiving objects: 100% (277/277), 7.03 MiB | 14.70 MiB/s, done.\n",
            "Resolving deltas: 100% (152/152), done.\n",
            "Installing requirements for CodeFormer\n",
            "Installing requirements\n",
            "Launching Web UI with arguments: --share --xformers --enable-insecure-extension-access\n",
            "2023-08-03 05:10:16.906544: I tensorflow/core/util/port.cc:110] oneDNN custom operations are on. You may see slightly different numerical results due to floating-point round-off errors from different computation orders. To turn them off, set the environment variable `TF_ENABLE_ONEDNN_OPTS=0`.\n",
            "2023-08-03 05:10:16.963970: I tensorflow/core/platform/cpu_feature_guard.cc:182] This TensorFlow binary is optimized to use available CPU instructions in performance-critical operations.\n",
            "To enable the following instructions: AVX2 AVX512F AVX512_VNNI FMA, in other operations, rebuild TensorFlow with the appropriate compiler flags.\n",
            "2023-08-03 05:10:17.905451: W tensorflow/compiler/tf2tensorrt/utils/py_utils.cc:38] TF-TRT Warning: Could not find TensorRT\n",
            "Calculating sha256 for /content/stable-diffusion-webui/models/Stable-diffusion/animeArtDiffusionXL_alpha3.safetensors: Running on local URL:  http://127.0.0.1:7860\n",
            "Running on public URL: https://58b2f9edf7311e51b8.gradio.live\n",
            "\n",
            "This share link expires in 72 hours. For free permanent hosting and GPU upgrades (NEW!), check out Spaces: https://huggingface.co/spaces\n",
            "Startup time: 105.6s (launcher: 87.1s, import torch: 6.0s, import gradio: 0.8s, setup paths: 1.9s, other imports: 1.3s, setup codeformer: 0.2s, load scripts: 0.9s, create ui: 0.7s, gradio launch: 6.7s).\n",
            "87f2e27ed8c1f04f5038c02509ab7a2dc870edce20705be9430630162ef74186\n",
            "Loading weights [87f2e27ed8] from /content/stable-diffusion-webui/models/Stable-diffusion/animeArtDiffusionXL_alpha3.safetensors\n",
            "Creating model from config: /content/stable-diffusion-webui/repositories/generative-models/configs/inference/sd_xl_base.yaml\n",
            "Downloading (…)olve/main/vocab.json: 100% 961k/961k [00:00<00:00, 1.13MB/s]\n",
            "Downloading (…)olve/main/merges.txt: 100% 525k/525k [00:00<00:00, 8.35MB/s]\n",
            "Downloading (…)cial_tokens_map.json: 100% 389/389 [00:00<00:00, 2.50MB/s]\n",
            "Downloading (…)okenizer_config.json: 100% 905/905 [00:00<00:00, 6.80MB/s]\n",
            "Downloading (…)lve/main/config.json: 100% 4.52k/4.52k [00:00<00:00, 24.3MB/s]\n",
            "Applying attention optimization: xformers... done.\n",
            "Model loaded in 32.7s (calculate hash: 20.4s, load weights from disk: 1.3s, create model: 6.2s, apply weights to model: 1.5s, apply half(): 0.8s, move model to device: 1.8s, calculate empty prompt: 0.7s).\n",
            "Downloading VAEApprox model to: /content/stable-diffusion-webui/models/VAE-approx/vaeapprox-sdxl.pt\n",
            "100% 209k/209k [00:00<00:00, 57.1MB/s]\n",
            "  0% 0/20 [00:00<?, ?it/s]\n",
            "  5% 1/20 [00:04<01:19,  4.19s/it]\n",
            " 15% 3/20 [00:04<00:18,  1.09s/it]\n",
            " 20% 4/20 [00:04<00:11,  1.36it/s]\n",
            " 25% 5/20 [00:04<00:08,  1.86it/s]\n",
            " 30% 6/20 [00:05<00:05,  2.38it/s]\n",
            " 35% 7/20 [00:05<00:04,  2.90it/s]\n",
            " 40% 8/20 [00:05<00:03,  3.36it/s]\n",
            " 45% 9/20 [00:05<00:02,  3.79it/s]\n",
            " 50% 10/20 [00:05<00:02,  4.15it/s]\n",
            " 55% 11/20 [00:06<00:02,  4.45it/s]\n",
            " 60% 12/20 [00:06<00:01,  4.59it/s]\n",
            " 65% 13/20 [00:06<00:01,  4.73it/s]\n",
            " 70% 14/20 [00:06<00:01,  4.89it/s]\n",
            " 75% 15/20 [00:06<00:01,  5.00it/s]\n",
            " 80% 16/20 [00:07<00:00,  5.06it/s]\n",
            " 85% 17/20 [00:07<00:00,  5.10it/s]\n",
            " 90% 18/20 [00:07<00:00,  5.14it/s]\n",
            " 95% 19/20 [00:07<00:00,  5.17it/s]\n",
            "100% 20/20 [00:07<00:00,  2.55it/s]\n",
            "=========================================================================================\n",
            "A tensor with all NaNs was produced in VAE.\n",
            "Web UI will now convert VAE into 32-bit float and retry.\n",
            "To disable this behavior, disable the 'Automaticlly revert VAE to 32-bit floats' setting.\n",
            "To always start with 32-bit VAE, use --no-half-vae commandline flag.\n",
            "=========================================================================================\n",
            "\n",
            "Total progress: 100% 20/20 [00:04<00:00,  4.35it/s]\n",
            "Interrupted with signal 2 in <frame at 0x7e05940116e0, file '/usr/lib/python3.10/threading.py', line 324, code wait>\n",
            "\u001b[31m╭─\u001b[0m\u001b[31m────────────────────\u001b[0m\u001b[31m \u001b[0m\u001b[1;31mTraceback \u001b[0m\u001b[1;2;31m(most recent call last)\u001b[0m\u001b[31m \u001b[0m\u001b[31m─────────────────────\u001b[0m\u001b[31m─╮\u001b[0m\n",
            "\u001b[31m│\u001b[0m \u001b[2;33m/content/stable-diffusion-webui/\u001b[0m\u001b[1;33mlaunch.py\u001b[0m:\u001b[94m39\u001b[0m in \u001b[92m<module>\u001b[0m                     \u001b[31m│\u001b[0m\n",
            "\u001b[31m│\u001b[0m                                                                              \u001b[31m│\u001b[0m\n",
            "\u001b[31m│\u001b[0m   \u001b[2m36 \u001b[0m                                                                        \u001b[31m│\u001b[0m\n",
            "\u001b[31m│\u001b[0m   \u001b[2m37 \u001b[0m                                                                        \u001b[31m│\u001b[0m\n",
            "\u001b[31m│\u001b[0m   \u001b[2m38 \u001b[0m\u001b[94mif\u001b[0m \u001b[91m__name__\u001b[0m == \u001b[33m\"\u001b[0m\u001b[33m__main__\u001b[0m\u001b[33m\"\u001b[0m:                                              \u001b[31m│\u001b[0m\n",
            "\u001b[31m│\u001b[0m \u001b[31m❱ \u001b[0m39 \u001b[2m│   \u001b[0mmain()                                                              \u001b[31m│\u001b[0m\n",
            "\u001b[31m│\u001b[0m   \u001b[2m40 \u001b[0m                                                                        \u001b[31m│\u001b[0m\n",
            "\u001b[31m│\u001b[0m                                                                              \u001b[31m│\u001b[0m\n",
            "\u001b[31m│\u001b[0m \u001b[2;33m/content/stable-diffusion-webui/\u001b[0m\u001b[1;33mlaunch.py\u001b[0m:\u001b[94m35\u001b[0m in \u001b[92mmain\u001b[0m                         \u001b[31m│\u001b[0m\n",
            "\u001b[31m│\u001b[0m                                                                              \u001b[31m│\u001b[0m\n",
            "\u001b[31m│\u001b[0m   \u001b[2m32 \u001b[0m\u001b[2m│   \u001b[0m\u001b[94mif\u001b[0m args.test_server:                                                \u001b[31m│\u001b[0m\n",
            "\u001b[31m│\u001b[0m   \u001b[2m33 \u001b[0m\u001b[2m│   │   \u001b[0mconfigure_for_tests()                                           \u001b[31m│\u001b[0m\n",
            "\u001b[31m│\u001b[0m   \u001b[2m34 \u001b[0m\u001b[2m│   \u001b[0m                                                                    \u001b[31m│\u001b[0m\n",
            "\u001b[31m│\u001b[0m \u001b[31m❱ \u001b[0m35 \u001b[2m│   \u001b[0mstart()                                                             \u001b[31m│\u001b[0m\n",
            "\u001b[31m│\u001b[0m   \u001b[2m36 \u001b[0m                                                                        \u001b[31m│\u001b[0m\n",
            "\u001b[31m│\u001b[0m   \u001b[2m37 \u001b[0m                                                                        \u001b[31m│\u001b[0m\n",
            "\u001b[31m│\u001b[0m   \u001b[2m38 \u001b[0m\u001b[94mif\u001b[0m \u001b[91m__name__\u001b[0m == \u001b[33m\"\u001b[0m\u001b[33m__main__\u001b[0m\u001b[33m\"\u001b[0m:                                              \u001b[31m│\u001b[0m\n",
            "\u001b[31m│\u001b[0m                                                                              \u001b[31m│\u001b[0m\n",
            "\u001b[31m│\u001b[0m \u001b[2;33m/content/stable-diffusion-webui/modules/\u001b[0m\u001b[1;33mlaunch_utils.py\u001b[0m:\u001b[94m394\u001b[0m in \u001b[92mstart\u001b[0m         \u001b[31m│\u001b[0m\n",
            "\u001b[31m│\u001b[0m                                                                              \u001b[31m│\u001b[0m\n",
            "\u001b[31m│\u001b[0m   \u001b[2m391 \u001b[0m\u001b[2m│   \u001b[0m\u001b[94mif\u001b[0m \u001b[33m'\u001b[0m\u001b[33m--nowebui\u001b[0m\u001b[33m'\u001b[0m \u001b[95min\u001b[0m sys.argv:                                        \u001b[31m│\u001b[0m\n",
            "\u001b[31m│\u001b[0m   \u001b[2m392 \u001b[0m\u001b[2m│   │   \u001b[0mwebui.api_only()                                               \u001b[31m│\u001b[0m\n",
            "\u001b[31m│\u001b[0m   \u001b[2m393 \u001b[0m\u001b[2m│   \u001b[0m\u001b[94melse\u001b[0m:                                                              \u001b[31m│\u001b[0m\n",
            "\u001b[31m│\u001b[0m \u001b[31m❱ \u001b[0m394 \u001b[2m│   │   \u001b[0mwebui.webui()                                                  \u001b[31m│\u001b[0m\n",
            "\u001b[31m│\u001b[0m   \u001b[2m395 \u001b[0m                                                                       \u001b[31m│\u001b[0m\n",
            "\u001b[31m│\u001b[0m                                                                              \u001b[31m│\u001b[0m\n",
            "\u001b[31m│\u001b[0m \u001b[2;33m/content/stable-diffusion-webui/\u001b[0m\u001b[1;33mwebui.py\u001b[0m:\u001b[94m451\u001b[0m in \u001b[92mwebui\u001b[0m                        \u001b[31m│\u001b[0m\n",
            "\u001b[31m│\u001b[0m                                                                              \u001b[31m│\u001b[0m\n",
            "\u001b[31m│\u001b[0m   \u001b[2m448 \u001b[0m\u001b[2m│   │   \u001b[0m                                                               \u001b[31m│\u001b[0m\n",
            "\u001b[31m│\u001b[0m   \u001b[2m449 \u001b[0m\u001b[2m│   │   \u001b[0m\u001b[94mtry\u001b[0m:                                                           \u001b[31m│\u001b[0m\n",
            "\u001b[31m│\u001b[0m   \u001b[2m450 \u001b[0m\u001b[2m│   │   │   \u001b[0m\u001b[94mwhile\u001b[0m \u001b[94mTrue\u001b[0m:                                                \u001b[31m│\u001b[0m\n",
            "\u001b[31m│\u001b[0m \u001b[31m❱ \u001b[0m451 \u001b[2m│   │   │   │   \u001b[0mserver_command = shared.state.wait_for_server_command( \u001b[31m│\u001b[0m\n",
            "\u001b[31m│\u001b[0m   \u001b[2m452 \u001b[0m\u001b[2m│   │   │   │   \u001b[0m\u001b[94mif\u001b[0m server_command:                                     \u001b[31m│\u001b[0m\n",
            "\u001b[31m│\u001b[0m   \u001b[2m453 \u001b[0m\u001b[2m│   │   │   │   │   \u001b[0m\u001b[94mif\u001b[0m server_command \u001b[95min\u001b[0m (\u001b[33m\"\u001b[0m\u001b[33mstop\u001b[0m\u001b[33m\"\u001b[0m, \u001b[33m\"\u001b[0m\u001b[33mrestart\u001b[0m\u001b[33m\"\u001b[0m):          \u001b[31m│\u001b[0m\n",
            "\u001b[31m│\u001b[0m   \u001b[2m454 \u001b[0m\u001b[2m│   │   │   │   │   │   \u001b[0m\u001b[94mbreak\u001b[0m                                          \u001b[31m│\u001b[0m\n",
            "\u001b[31m│\u001b[0m                                                                              \u001b[31m│\u001b[0m\n",
            "\u001b[31m│\u001b[0m \u001b[2;33m/content/stable-diffusion-webui/modules/\u001b[0m\u001b[1;33mshared.py\u001b[0m:\u001b[94m142\u001b[0m in                     \u001b[31m│\u001b[0m\n",
            "\u001b[31m│\u001b[0m \u001b[92mwait_for_server_command\u001b[0m                                                      \u001b[31m│\u001b[0m\n",
            "\u001b[31m│\u001b[0m                                                                              \u001b[31m│\u001b[0m\n",
            "\u001b[31m│\u001b[0m   \u001b[2m139 \u001b[0m\u001b[2;90m│   │   \u001b[0m\u001b[33m\"\"\"\u001b[0m                                                            \u001b[31m│\u001b[0m\n",
            "\u001b[31m│\u001b[0m   \u001b[2m140 \u001b[0m\u001b[2;33m│   │   \u001b[0m\u001b[33mWait for server command to get set; return and clear the value\u001b[0m \u001b[31m│\u001b[0m\n",
            "\u001b[31m│\u001b[0m   \u001b[2m141 \u001b[0m\u001b[2;33m│   │   \u001b[0m\u001b[33m\"\"\"\u001b[0m                                                            \u001b[31m│\u001b[0m\n",
            "\u001b[31m│\u001b[0m \u001b[31m❱ \u001b[0m142 \u001b[2m│   │   \u001b[0m\u001b[94mif\u001b[0m \u001b[96mself\u001b[0m._server_command_signal.wait(timeout):                  \u001b[31m│\u001b[0m\n",
            "\u001b[31m│\u001b[0m   \u001b[2m143 \u001b[0m\u001b[2m│   │   │   \u001b[0m\u001b[96mself\u001b[0m._server_command_signal.clear()                        \u001b[31m│\u001b[0m\n",
            "\u001b[31m│\u001b[0m   \u001b[2m144 \u001b[0m\u001b[2m│   │   │   \u001b[0mreq = \u001b[96mself\u001b[0m._server_command                                 \u001b[31m│\u001b[0m\n",
            "\u001b[31m│\u001b[0m   \u001b[2m145 \u001b[0m\u001b[2m│   │   │   \u001b[0m\u001b[96mself\u001b[0m._server_command = \u001b[94mNone\u001b[0m                                \u001b[31m│\u001b[0m\n",
            "\u001b[31m│\u001b[0m                                                                              \u001b[31m│\u001b[0m\n",
            "\u001b[31m│\u001b[0m \u001b[2;33m/usr/lib/python3.10/\u001b[0m\u001b[1;33mthreading.py\u001b[0m:\u001b[94m607\u001b[0m in \u001b[92mwait\u001b[0m                                 \u001b[31m│\u001b[0m\n",
            "\u001b[31m│\u001b[0m                                                                              \u001b[31m│\u001b[0m\n",
            "\u001b[31m│\u001b[0m   \u001b[2m 604 \u001b[0m\u001b[2m│   │   \u001b[0m\u001b[94mwith\u001b[0m \u001b[96mself\u001b[0m._cond:                                              \u001b[31m│\u001b[0m\n",
            "\u001b[31m│\u001b[0m   \u001b[2m 605 \u001b[0m\u001b[2m│   │   │   \u001b[0msignaled = \u001b[96mself\u001b[0m._flag                                     \u001b[31m│\u001b[0m\n",
            "\u001b[31m│\u001b[0m   \u001b[2m 606 \u001b[0m\u001b[2m│   │   │   \u001b[0m\u001b[94mif\u001b[0m \u001b[95mnot\u001b[0m signaled:                                          \u001b[31m│\u001b[0m\n",
            "\u001b[31m│\u001b[0m \u001b[31m❱ \u001b[0m 607 \u001b[2m│   │   │   │   \u001b[0msignaled = \u001b[96mself\u001b[0m._cond.wait(timeout)                   \u001b[31m│\u001b[0m\n",
            "\u001b[31m│\u001b[0m   \u001b[2m 608 \u001b[0m\u001b[2m│   │   │   \u001b[0m\u001b[94mreturn\u001b[0m signaled                                           \u001b[31m│\u001b[0m\n",
            "\u001b[31m│\u001b[0m   \u001b[2m 609 \u001b[0m                                                                      \u001b[31m│\u001b[0m\n",
            "\u001b[31m│\u001b[0m   \u001b[2m 610 \u001b[0m                                                                      \u001b[31m│\u001b[0m\n",
            "\u001b[31m│\u001b[0m                                                                              \u001b[31m│\u001b[0m\n",
            "\u001b[31m│\u001b[0m \u001b[2;33m/usr/lib/python3.10/\u001b[0m\u001b[1;33mthreading.py\u001b[0m:\u001b[94m324\u001b[0m in \u001b[92mwait\u001b[0m                                 \u001b[31m│\u001b[0m\n",
            "\u001b[31m│\u001b[0m                                                                              \u001b[31m│\u001b[0m\n",
            "\u001b[31m│\u001b[0m   \u001b[2m 321 \u001b[0m\u001b[2m│   │   │   │   \u001b[0mgotit = \u001b[94mTrue\u001b[0m                                          \u001b[31m│\u001b[0m\n",
            "\u001b[31m│\u001b[0m   \u001b[2m 322 \u001b[0m\u001b[2m│   │   │   \u001b[0m\u001b[94melse\u001b[0m:                                                     \u001b[31m│\u001b[0m\n",
            "\u001b[31m│\u001b[0m   \u001b[2m 323 \u001b[0m\u001b[2m│   │   │   │   \u001b[0m\u001b[94mif\u001b[0m timeout > \u001b[94m0\u001b[0m:                                       \u001b[31m│\u001b[0m\n",
            "\u001b[31m│\u001b[0m \u001b[31m❱ \u001b[0m 324 \u001b[2m│   │   │   │   │   \u001b[0mgotit = waiter.acquire(\u001b[94mTrue\u001b[0m, timeout)             \u001b[31m│\u001b[0m\n",
            "\u001b[31m│\u001b[0m   \u001b[2m 325 \u001b[0m\u001b[2m│   │   │   │   \u001b[0m\u001b[94melse\u001b[0m:                                                 \u001b[31m│\u001b[0m\n",
            "\u001b[31m│\u001b[0m   \u001b[2m 326 \u001b[0m\u001b[2m│   │   │   │   │   \u001b[0mgotit = waiter.acquire(\u001b[94mFalse\u001b[0m)                     \u001b[31m│\u001b[0m\n",
            "\u001b[31m│\u001b[0m   \u001b[2m 327 \u001b[0m\u001b[2m│   │   │   \u001b[0m\u001b[94mreturn\u001b[0m gotit                                              \u001b[31m│\u001b[0m\n",
            "\u001b[31m│\u001b[0m                                                                              \u001b[31m│\u001b[0m\n",
            "\u001b[31m│\u001b[0m \u001b[2;33m/content/stable-diffusion-webui/\u001b[0m\u001b[1;33mwebui.py\u001b[0m:\u001b[94m228\u001b[0m in \u001b[92msigint_handler\u001b[0m               \u001b[31m│\u001b[0m\n",
            "\u001b[31m│\u001b[0m                                                                              \u001b[31m│\u001b[0m\n",
            "\u001b[31m│\u001b[0m   \u001b[2m225 \u001b[0m\u001b[94mdef\u001b[0m \u001b[92mconfigure_sigint_handler\u001b[0m():                                        \u001b[31m│\u001b[0m\n",
            "\u001b[31m│\u001b[0m   \u001b[2m226 \u001b[0m\u001b[2m│   \u001b[0m\u001b[2m# make the program just exit at ctrl+c without waiting for anythin\u001b[0m \u001b[31m│\u001b[0m\n",
            "\u001b[31m│\u001b[0m   \u001b[2m227 \u001b[0m\u001b[2m│   \u001b[0m\u001b[94mdef\u001b[0m \u001b[92msigint_handler\u001b[0m(sig, frame):                                    \u001b[31m│\u001b[0m\n",
            "\u001b[31m│\u001b[0m \u001b[31m❱ \u001b[0m228 \u001b[2m│   │   \u001b[0m\u001b[96mprint\u001b[0m(\u001b[33mf\u001b[0m\u001b[33m'\u001b[0m\u001b[33mInterrupted with signal \u001b[0m\u001b[33m{\u001b[0msig\u001b[33m}\u001b[0m\u001b[33m in \u001b[0m\u001b[33m{\u001b[0mframe\u001b[33m}\u001b[0m\u001b[33m'\u001b[0m)             \u001b[31m│\u001b[0m\n",
            "\u001b[31m│\u001b[0m   \u001b[2m229 \u001b[0m\u001b[2m│   │   \u001b[0mos._exit(\u001b[94m0\u001b[0m)                                                    \u001b[31m│\u001b[0m\n",
            "\u001b[31m│\u001b[0m   \u001b[2m230 \u001b[0m\u001b[2m│   \u001b[0m                                                                   \u001b[31m│\u001b[0m\n",
            "\u001b[31m│\u001b[0m   \u001b[2m231 \u001b[0m\u001b[2m│   \u001b[0m\u001b[94mif\u001b[0m \u001b[95mnot\u001b[0m os.environ.get(\u001b[33m\"\u001b[0m\u001b[33mCOVERAGE_RUN\u001b[0m\u001b[33m\"\u001b[0m):                             \u001b[31m│\u001b[0m\n",
            "\u001b[31m│\u001b[0m                                                                              \u001b[31m│\u001b[0m\n",
            "\u001b[31m│\u001b[0m \u001b[2;33m/content/stable-diffusion-webui/\u001b[0m\u001b[1;33mwebui.py\u001b[0m:\u001b[94m228\u001b[0m in \u001b[92msigint_handler\u001b[0m               \u001b[31m│\u001b[0m\n",
            "\u001b[31m│\u001b[0m                                                                              \u001b[31m│\u001b[0m\n",
            "\u001b[31m│\u001b[0m   \u001b[2m225 \u001b[0m\u001b[94mdef\u001b[0m \u001b[92mconfigure_sigint_handler\u001b[0m():                                        \u001b[31m│\u001b[0m\n",
            "\u001b[31m│\u001b[0m   \u001b[2m226 \u001b[0m\u001b[2m│   \u001b[0m\u001b[2m# make the program just exit at ctrl+c without waiting for anythin\u001b[0m \u001b[31m│\u001b[0m\n",
            "\u001b[31m│\u001b[0m   \u001b[2m227 \u001b[0m\u001b[2m│   \u001b[0m\u001b[94mdef\u001b[0m \u001b[92msigint_handler\u001b[0m(sig, frame):                                    \u001b[31m│\u001b[0m\n",
            "\u001b[31m│\u001b[0m \u001b[31m❱ \u001b[0m228 \u001b[2m│   │   \u001b[0m\u001b[96mprint\u001b[0m(\u001b[33mf\u001b[0m\u001b[33m'\u001b[0m\u001b[33mInterrupted with signal \u001b[0m\u001b[33m{\u001b[0msig\u001b[33m}\u001b[0m\u001b[33m in \u001b[0m\u001b[33m{\u001b[0mframe\u001b[33m}\u001b[0m\u001b[33m'\u001b[0m)             \u001b[31m│\u001b[0m\n",
            "\u001b[31m│\u001b[0m   \u001b[2m229 \u001b[0m\u001b[2m│   │   \u001b[0mos._exit(\u001b[94m0\u001b[0m)                                                    \u001b[31m│\u001b[0m\n",
            "\u001b[31m│\u001b[0m   \u001b[2m230 \u001b[0m\u001b[2m│   \u001b[0m                                                                   \u001b[31m│\u001b[0m\n",
            "\u001b[31m│\u001b[0m   \u001b[2m231 \u001b[0m\u001b[2m│   \u001b[0m\u001b[94mif\u001b[0m \u001b[95mnot\u001b[0m os.environ.get(\u001b[33m\"\u001b[0m\u001b[33mCOVERAGE_RUN\u001b[0m\u001b[33m\"\u001b[0m):                             \u001b[31m│\u001b[0m\n",
            "\u001b[31m╰──────────────────────────────────────────────────────────────────────────────╯\u001b[0m\n",
            "\u001b[1;91mRuntimeError: \u001b[0mreentrant call inside \u001b[1m<\u001b[0m\u001b[1;95m_io.BufferedWriter\u001b[0m\u001b[39m \u001b[0m\u001b[33mname\u001b[0m\u001b[39m=\u001b[0m\u001b[32m'<stdout>'\u001b[0m\u001b[1m>\u001b[0m\n",
            "Killing tunnel 127.0.0.1:7860 <> https://58b2f9edf7311e51b8.gradio.live\n"
          ]
        }
      ]
    },
    {
      "cell_type": "markdown",
      "metadata": {
        "id": "zKPp5OtGtitT"
      },
      "source": [
        "### **生成画像をZIP化（左の[ファイル]直下にZIPファイルができます）**"
      ]
    },
    {
      "cell_type": "code",
      "execution_count": null,
      "metadata": {
        "id": "NqXxGAdcunUb",
        "colab": {
          "base_uri": "https://localhost:8080/"
        },
        "outputId": "66676a72-92fa-42b0-ed04-18dc35cb6e00"
      },
      "outputs": [
        {
          "output_type": "stream",
          "name": "stdout",
          "text": [
            "  adding: content/stable-diffusion-webui/outputs/ (stored 0%)\n",
            "  adding: content/stable-diffusion-webui/outputs/txt2img-grids/ (stored 0%)\n",
            "  adding: content/stable-diffusion-webui/outputs/txt2img-grids/2023-08-02/ (stored 0%)\n",
            "  adding: content/stable-diffusion-webui/outputs/txt2img-grids/2023-08-02/grid-0003.png (deflated 0%)\n",
            "  adding: content/stable-diffusion-webui/outputs/txt2img-grids/2023-08-02/grid-0009.jpg (deflated 3%)\n",
            "  adding: content/stable-diffusion-webui/outputs/txt2img-grids/2023-08-02/grid-0004.jpg (deflated 4%)\n",
            "  adding: content/stable-diffusion-webui/outputs/txt2img-grids/2023-08-02/grid-0009.png (deflated 0%)\n",
            "  adding: content/stable-diffusion-webui/outputs/txt2img-grids/2023-08-02/grid-0000.png (deflated 0%)\n",
            "  adding: content/stable-diffusion-webui/outputs/txt2img-grids/2023-08-02/grid-0005.png (deflated 0%)\n",
            "  adding: content/stable-diffusion-webui/outputs/txt2img-grids/2023-08-02/grid-0010.jpg (deflated 3%)\n",
            "  adding: content/stable-diffusion-webui/outputs/txt2img-grids/2023-08-02/grid-0008.jpg (deflated 4%)\n",
            "  adding: content/stable-diffusion-webui/outputs/txt2img-grids/2023-08-02/grid-0002.png (deflated 0%)\n",
            "  adding: content/stable-diffusion-webui/outputs/txt2img-grids/2023-08-02/grid-0001.png (deflated 0%)\n",
            "  adding: content/stable-diffusion-webui/outputs/txt2img-grids/2023-08-02/grid-0007.png (deflated 0%)\n",
            "  adding: content/stable-diffusion-webui/outputs/txt2img-grids/2023-08-02/grid-0006.png (deflated 0%)\n",
            "  adding: content/stable-diffusion-webui/outputs/txt2img-grids/2023-08-02/grid-0010.png (deflated 0%)\n",
            "  adding: content/stable-diffusion-webui/outputs/txt2img-grids/2023-08-02/grid-0008.png (deflated 0%)\n",
            "  adding: content/stable-diffusion-webui/outputs/txt2img-grids/2023-08-02/grid-0004.png (deflated 0%)\n",
            "  adding: content/stable-diffusion-webui/outputs/txt2img-images/ (stored 0%)\n",
            "  adding: content/stable-diffusion-webui/outputs/txt2img-images/2023-08-02/ (stored 0%)\n",
            "  adding: content/stable-diffusion-webui/outputs/txt2img-images/2023-08-02/00032-3243615012.png (deflated 0%)\n",
            "  adding: content/stable-diffusion-webui/outputs/txt2img-images/2023-08-02/00027-537008582.png (deflated 0%)\n",
            "  adding: content/stable-diffusion-webui/outputs/txt2img-images/2023-08-02/00021-3148202489.png (deflated 0%)\n",
            "  adding: content/stable-diffusion-webui/outputs/txt2img-images/2023-08-02/00013-1373063201.png (deflated 0%)\n",
            "  adding: content/stable-diffusion-webui/outputs/txt2img-images/2023-08-02/00023-3148202491.png (deflated 0%)\n",
            "  adding: content/stable-diffusion-webui/outputs/txt2img-images/2023-08-02/00003-266116875.png (deflated 0%)\n",
            "  adding: content/stable-diffusion-webui/outputs/txt2img-images/2023-08-02/00019-1317369631.png (deflated 0%)\n",
            "  adding: content/stable-diffusion-webui/outputs/txt2img-images/2023-08-02/00005-266116877.png (deflated 0%)\n",
            "  adding: content/stable-diffusion-webui/outputs/txt2img-images/2023-08-02/00028-537008583.png (deflated 0%)\n",
            "  adding: content/stable-diffusion-webui/outputs/txt2img-images/2023-08-02/00024-3746914606.png (deflated 0%)\n",
            "  adding: content/stable-diffusion-webui/outputs/txt2img-images/2023-08-02/00007-837405957.png (deflated 0%)\n",
            "  adding: content/stable-diffusion-webui/outputs/txt2img-images/2023-08-02/00009-872398631.png (deflated 0%)\n",
            "  adding: content/stable-diffusion-webui/outputs/txt2img-images/2023-08-02/00015-1808718367.png (deflated 0%)\n",
            "  adding: content/stable-diffusion-webui/outputs/txt2img-images/2023-08-02/00010-872398632.png (deflated 0%)\n",
            "  adding: content/stable-diffusion-webui/outputs/txt2img-images/2023-08-02/00011-872398633.png (deflated 0%)\n",
            "  adding: content/stable-diffusion-webui/outputs/txt2img-images/2023-08-02/00001-2397899251.png (deflated 0%)\n",
            "  adding: content/stable-diffusion-webui/outputs/txt2img-images/2023-08-02/00030-3243615010.png (deflated 0%)\n",
            "  adding: content/stable-diffusion-webui/outputs/txt2img-images/2023-08-02/00002-2397899252.png (deflated 0%)\n",
            "  adding: content/stable-diffusion-webui/outputs/txt2img-images/2023-08-02/00012-1373063200.png (deflated 0%)\n",
            "  adding: content/stable-diffusion-webui/outputs/txt2img-images/2023-08-02/00000-2397899250.png (deflated 0%)\n",
            "  adding: content/stable-diffusion-webui/outputs/txt2img-images/2023-08-02/00016-1808718368.png (deflated 0%)\n",
            "  adding: content/stable-diffusion-webui/outputs/txt2img-images/2023-08-02/00025-3746914607.png (deflated 0%)\n",
            "  adding: content/stable-diffusion-webui/outputs/txt2img-images/2023-08-02/00004-266116876.png (deflated 0%)\n",
            "  adding: content/stable-diffusion-webui/outputs/txt2img-images/2023-08-02/00031-3243615011.png (deflated 0%)\n",
            "  adding: content/stable-diffusion-webui/outputs/txt2img-images/2023-08-02/00014-1373063202.png (deflated 0%)\n",
            "  adding: content/stable-diffusion-webui/outputs/txt2img-images/2023-08-02/00029-537008584.png (deflated 0%)\n",
            "  adding: content/stable-diffusion-webui/outputs/txt2img-images/2023-08-02/00020-1317369632.png (deflated 0%)\n",
            "  adding: content/stable-diffusion-webui/outputs/txt2img-images/2023-08-02/00006-837405956.png (deflated 0%)\n",
            "  adding: content/stable-diffusion-webui/outputs/txt2img-images/2023-08-02/00022-3148202490.png (deflated 0%)\n",
            "  adding: content/stable-diffusion-webui/outputs/txt2img-images/2023-08-02/00018-1317369630.png (deflated 0%)\n",
            "  adding: content/stable-diffusion-webui/outputs/txt2img-images/2023-08-02/00008-837405958.png (deflated 0%)\n",
            "  adding: content/stable-diffusion-webui/outputs/txt2img-images/2023-08-02/00017-1808718369.png (deflated 0%)\n",
            "  adding: content/stable-diffusion-webui/outputs/txt2img-images/2023-08-02/00026-3746914608.png (deflated 0%)\n"
          ]
        }
      ],
      "source": [
        "!zip -r /content/all_images.zip /content/stable-diffusion-webui/outputs"
      ]
    },
    {
      "cell_type": "markdown",
      "metadata": {
        "id": "u_zRSHmIv4_z"
      },
      "source": [
        "**[SAVE]した画像のみ**"
      ]
    },
    {
      "cell_type": "code",
      "execution_count": null,
      "metadata": {
        "id": "NcAO6Q3VvV6d"
      },
      "outputs": [],
      "source": [
        "!zip -r /content/save_images.zip /content/stable-diffusion-webui/log/images"
      ]
    }
  ]
}